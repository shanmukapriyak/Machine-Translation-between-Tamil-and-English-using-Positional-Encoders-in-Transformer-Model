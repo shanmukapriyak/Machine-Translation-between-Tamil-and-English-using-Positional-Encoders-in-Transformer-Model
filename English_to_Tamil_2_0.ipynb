{
  "cells": [
    {
      "cell_type": "markdown",
      "metadata": {
        "id": "PrcQC7eRc5Fp"
      },
      "source": [
        "**Mounting GDrive**"
      ]
    },
    {
      "cell_type": "code",
      "execution_count": null,
      "metadata": {
        "colab": {
          "base_uri": "https://localhost:8080/"
        },
        "id": "7RMGmESDcw2g",
        "outputId": "81032072-3ab6-4387-be4a-d666a3d5fc08"
      },
      "outputs": [
        {
          "output_type": "stream",
          "name": "stdout",
          "text": [
            "Mounted at /content/gdrive\n"
          ]
        }
      ],
      "source": [
        "from google.colab import drive\n",
        "\n",
        "# This will prompt for authorization.\n",
        "# mounting the drive to access the dataset\n",
        "drive.mount('/content/gdrive', force_remount=True)"
      ]
    },
    {
      "cell_type": "markdown",
      "metadata": {
        "id": "y8XFZRl3KtmR"
      },
      "source": [
        "**Dataset**"
      ]
    },
    {
      "cell_type": "code",
      "execution_count": null,
      "metadata": {
        "colab": {
          "base_uri": "https://localhost:8080/"
        },
        "id": "3k3KwN2AJGZo",
        "outputId": "c7f010b4-f8c8-4e53-9e9c-3fdf83310038"
      },
      "outputs": [
        {
          "output_type": "stream",
          "name": "stdout",
          "text": [
            "Sample: அண்மைய வருடங்களில் பிரிட்பாப் வகை பிரபலமடைந்து ஒயாஸிஸ் ப்ளர் மற்றும் சூப்பர்கிராஸ் ஆகிய குழுக்கள் சர்வதேசப் புகழ் அடைந்தன.\n"
          ]
        }
      ],
      "source": [
        "#tamil language corpus\n",
        "tam_data=open(\"/content/gdrive/MyDrive/Dataset/training.ta-en.ta\",encoding='utf-8').read()\n",
        "tam_data=tam_data.split(\"\\n\")[:-1]\n",
        "print(\"Sample:\", tam_data[0])"
      ]
    },
    {
      "cell_type": "code",
      "execution_count": null,
      "metadata": {
        "colab": {
          "base_uri": "https://localhost:8080/"
        },
        "id": "4kr7v_0JMkRR",
        "outputId": "1ff6a234-59b2-43fd-c230-0574cf267d13"
      },
      "outputs": [
        {
          "output_type": "stream",
          "name": "stdout",
          "text": [
            "Sample: In recent years, britpop type became popular and the groups like Oasis, Blaire and SuperCross became world famous.\n"
          ]
        }
      ],
      "source": [
        "#english language corpus\n",
        "eng_data=open(\"/content/gdrive/MyDrive/Dataset/training.ta-en.en\",encoding='utf-8').read()\n",
        "eng_data=eng_data.split(\"\\n\")[:-1]\n",
        "print(\"Sample:\", eng_data[0])"
      ]
    },
    {
      "cell_type": "code",
      "execution_count": null,
      "metadata": {
        "colab": {
          "base_uri": "https://localhost:8080/"
        },
        "id": "c9IHEaRfM87O",
        "outputId": "2a442785-5100-47d0-b2ef-8651f573d8a6"
      },
      "outputs": [
        {
          "output_type": "stream",
          "name": "stdout",
          "text": [
            "Sample: I slept.\tநான் தூங்கினேன்.\t\n"
          ]
        }
      ],
      "source": [
        "#custom dataset\n",
        "eng_tam_data=open(\"/content/gdrive/MyDrive/Dataset/training-eng-tam.txt\").read()\n",
        "eng_tam_data=eng_tam_data.split(\"\\n\")\n",
        "print(\"Sample:\", eng_tam_data[0])"
      ]
    },
    {
      "cell_type": "markdown",
      "metadata": {
        "id": "3m1b-A_CK36f"
      },
      "source": [
        "**Data Preparation**"
      ]
    },
    {
      "cell_type": "code",
      "execution_count": null,
      "metadata": {
        "id": "IhUvk6rXOlxk"
      },
      "outputs": [],
      "source": [
        "#required library\n",
        "import pandas as pd\n",
        "import re"
      ]
    },
    {
      "cell_type": "code",
      "execution_count": null,
      "metadata": {
        "id": "EZXcyyfbK8-T"
      },
      "outputs": [],
      "source": [
        "en=[]\n",
        "ta=[]\n",
        "for i in eng_tam_data:\n",
        "    var=i.split(\"\\t\")\n",
        "    en.append(var[0])\n",
        "    ta.append(var[1])\n"
      ]
    },
    {
      "cell_type": "code",
      "execution_count": null,
      "metadata": {
        "id": "3tLaBl7cOBiQ"
      },
      "outputs": [],
      "source": [
        "# Dataset as Dataframe\n",
        "df1=pd.DataFrame(list(zip(en,ta)),columns=[\"english\",\"tamil\"])"
      ]
    },
    {
      "cell_type": "code",
      "execution_count": null,
      "metadata": {
        "colab": {
          "base_uri": "https://localhost:8080/",
          "height": 206
        },
        "id": "aXeBOv8POw7h",
        "outputId": "6e7f1384-4514-428b-8ba1-b381c839b83d"
      },
      "outputs": [
        {
          "output_type": "execute_result",
          "data": {
            "text/plain": [
              "      english                 tamil\n",
              "0    I slept.      நான் தூங்கினேன்.\n",
              "1  Calm down.     அமைதியாக இருங்கள்\n",
              "2  I'll walk.        நான் நடப்பேன்.\n",
              "3  Who is he?            அவன் யார்?\n",
              "4  Who knows?  யாருக்குத் தெரியும்?"
            ],
            "text/html": [
              "\n",
              "  <div id=\"df-4bfbb749-803e-42eb-82fd-37c70ca8fca7\">\n",
              "    <div class=\"colab-df-container\">\n",
              "      <div>\n",
              "<style scoped>\n",
              "    .dataframe tbody tr th:only-of-type {\n",
              "        vertical-align: middle;\n",
              "    }\n",
              "\n",
              "    .dataframe tbody tr th {\n",
              "        vertical-align: top;\n",
              "    }\n",
              "\n",
              "    .dataframe thead th {\n",
              "        text-align: right;\n",
              "    }\n",
              "</style>\n",
              "<table border=\"1\" class=\"dataframe\">\n",
              "  <thead>\n",
              "    <tr style=\"text-align: right;\">\n",
              "      <th></th>\n",
              "      <th>english</th>\n",
              "      <th>tamil</th>\n",
              "    </tr>\n",
              "  </thead>\n",
              "  <tbody>\n",
              "    <tr>\n",
              "      <th>0</th>\n",
              "      <td>I slept.</td>\n",
              "      <td>நான் தூங்கினேன்.</td>\n",
              "    </tr>\n",
              "    <tr>\n",
              "      <th>1</th>\n",
              "      <td>Calm down.</td>\n",
              "      <td>அமைதியாக இருங்கள்</td>\n",
              "    </tr>\n",
              "    <tr>\n",
              "      <th>2</th>\n",
              "      <td>I'll walk.</td>\n",
              "      <td>நான் நடப்பேன்.</td>\n",
              "    </tr>\n",
              "    <tr>\n",
              "      <th>3</th>\n",
              "      <td>Who is he?</td>\n",
              "      <td>அவன் யார்?</td>\n",
              "    </tr>\n",
              "    <tr>\n",
              "      <th>4</th>\n",
              "      <td>Who knows?</td>\n",
              "      <td>யாருக்குத் தெரியும்?</td>\n",
              "    </tr>\n",
              "  </tbody>\n",
              "</table>\n",
              "</div>\n",
              "      <button class=\"colab-df-convert\" onclick=\"convertToInteractive('df-4bfbb749-803e-42eb-82fd-37c70ca8fca7')\"\n",
              "              title=\"Convert this dataframe to an interactive table.\"\n",
              "              style=\"display:none;\">\n",
              "        \n",
              "  <svg xmlns=\"http://www.w3.org/2000/svg\" height=\"24px\"viewBox=\"0 0 24 24\"\n",
              "       width=\"24px\">\n",
              "    <path d=\"M0 0h24v24H0V0z\" fill=\"none\"/>\n",
              "    <path d=\"M18.56 5.44l.94 2.06.94-2.06 2.06-.94-2.06-.94-.94-2.06-.94 2.06-2.06.94zm-11 1L8.5 8.5l.94-2.06 2.06-.94-2.06-.94L8.5 2.5l-.94 2.06-2.06.94zm10 10l.94 2.06.94-2.06 2.06-.94-2.06-.94-.94-2.06-.94 2.06-2.06.94z\"/><path d=\"M17.41 7.96l-1.37-1.37c-.4-.4-.92-.59-1.43-.59-.52 0-1.04.2-1.43.59L10.3 9.45l-7.72 7.72c-.78.78-.78 2.05 0 2.83L4 21.41c.39.39.9.59 1.41.59.51 0 1.02-.2 1.41-.59l7.78-7.78 2.81-2.81c.8-.78.8-2.07 0-2.86zM5.41 20L4 18.59l7.72-7.72 1.47 1.35L5.41 20z\"/>\n",
              "  </svg>\n",
              "      </button>\n",
              "      \n",
              "  <style>\n",
              "    .colab-df-container {\n",
              "      display:flex;\n",
              "      flex-wrap:wrap;\n",
              "      gap: 12px;\n",
              "    }\n",
              "\n",
              "    .colab-df-convert {\n",
              "      background-color: #E8F0FE;\n",
              "      border: none;\n",
              "      border-radius: 50%;\n",
              "      cursor: pointer;\n",
              "      display: none;\n",
              "      fill: #1967D2;\n",
              "      height: 32px;\n",
              "      padding: 0 0 0 0;\n",
              "      width: 32px;\n",
              "    }\n",
              "\n",
              "    .colab-df-convert:hover {\n",
              "      background-color: #E2EBFA;\n",
              "      box-shadow: 0px 1px 2px rgba(60, 64, 67, 0.3), 0px 1px 3px 1px rgba(60, 64, 67, 0.15);\n",
              "      fill: #174EA6;\n",
              "    }\n",
              "\n",
              "    [theme=dark] .colab-df-convert {\n",
              "      background-color: #3B4455;\n",
              "      fill: #D2E3FC;\n",
              "    }\n",
              "\n",
              "    [theme=dark] .colab-df-convert:hover {\n",
              "      background-color: #434B5C;\n",
              "      box-shadow: 0px 1px 3px 1px rgba(0, 0, 0, 0.15);\n",
              "      filter: drop-shadow(0px 1px 2px rgba(0, 0, 0, 0.3));\n",
              "      fill: #FFFFFF;\n",
              "    }\n",
              "  </style>\n",
              "\n",
              "      <script>\n",
              "        const buttonEl =\n",
              "          document.querySelector('#df-4bfbb749-803e-42eb-82fd-37c70ca8fca7 button.colab-df-convert');\n",
              "        buttonEl.style.display =\n",
              "          google.colab.kernel.accessAllowed ? 'block' : 'none';\n",
              "\n",
              "        async function convertToInteractive(key) {\n",
              "          const element = document.querySelector('#df-4bfbb749-803e-42eb-82fd-37c70ca8fca7');\n",
              "          const dataTable =\n",
              "            await google.colab.kernel.invokeFunction('convertToInteractive',\n",
              "                                                     [key], {});\n",
              "          if (!dataTable) return;\n",
              "\n",
              "          const docLinkHtml = 'Like what you see? Visit the ' +\n",
              "            '<a target=\"_blank\" href=https://colab.research.google.com/notebooks/data_table.ipynb>data table notebook</a>'\n",
              "            + ' to learn more about interactive tables.';\n",
              "          element.innerHTML = '';\n",
              "          dataTable['output_type'] = 'display_data';\n",
              "          await google.colab.output.renderOutput(dataTable, element);\n",
              "          const docLink = document.createElement('div');\n",
              "          docLink.innerHTML = docLinkHtml;\n",
              "          element.appendChild(docLink);\n",
              "        }\n",
              "      </script>\n",
              "    </div>\n",
              "  </div>\n",
              "  "
            ]
          },
          "metadata": {},
          "execution_count": 8
        }
      ],
      "source": [
        "df1.head()"
      ]
    },
    {
      "cell_type": "code",
      "execution_count": null,
      "metadata": {
        "id": "sDyxlzOjOCH9"
      },
      "outputs": [],
      "source": [
        "# English and Tamil Corpus as Dataframe\n",
        "df2=pd.DataFrame(list(zip(eng_data,tam_data)),columns=[\"english\",\"tamil\"])"
      ]
    },
    {
      "cell_type": "code",
      "execution_count": null,
      "metadata": {
        "colab": {
          "base_uri": "https://localhost:8080/",
          "height": 206
        },
        "id": "Mbyxxm-6O1sV",
        "outputId": "553a679b-9272-47b9-f1c9-4f138521a0c0"
      },
      "outputs": [
        {
          "output_type": "execute_result",
          "data": {
            "text/plain": [
              "                                             english  \\\n",
              "0  In recent years, britpop type became popular a...   \n",
              "1  recent years pritpop type has become famous, t...   \n",
              "2  In the recent year Britpop type was famous and...   \n",
              "3  In recent years, Britpop type music was become...   \n",
              "4                               duty honesty control   \n",
              "\n",
              "                                               tamil  \n",
              "0  அண்மைய வருடங்களில் பிரிட்பாப் வகை பிரபலமடைந்து...  \n",
              "1  அண்மைய வருடங்களில் பிரிட்பாப் வகை பிரபலமடைந்து...  \n",
              "2  அண்மைய வருடங்களில் பிரிட்பாப் வகை பிரபலமடைந்து...  \n",
              "3  அண்மைய வருடங்களில் பிரிட்பாப் வகை பிரபலமடைந்து...  \n",
              "4                            கடமை கண்ணியம் கட்டுபாடு  "
            ],
            "text/html": [
              "\n",
              "  <div id=\"df-fd06f6b3-d586-4bb3-a987-b46d6e876509\">\n",
              "    <div class=\"colab-df-container\">\n",
              "      <div>\n",
              "<style scoped>\n",
              "    .dataframe tbody tr th:only-of-type {\n",
              "        vertical-align: middle;\n",
              "    }\n",
              "\n",
              "    .dataframe tbody tr th {\n",
              "        vertical-align: top;\n",
              "    }\n",
              "\n",
              "    .dataframe thead th {\n",
              "        text-align: right;\n",
              "    }\n",
              "</style>\n",
              "<table border=\"1\" class=\"dataframe\">\n",
              "  <thead>\n",
              "    <tr style=\"text-align: right;\">\n",
              "      <th></th>\n",
              "      <th>english</th>\n",
              "      <th>tamil</th>\n",
              "    </tr>\n",
              "  </thead>\n",
              "  <tbody>\n",
              "    <tr>\n",
              "      <th>0</th>\n",
              "      <td>In recent years, britpop type became popular a...</td>\n",
              "      <td>அண்மைய வருடங்களில் பிரிட்பாப் வகை பிரபலமடைந்து...</td>\n",
              "    </tr>\n",
              "    <tr>\n",
              "      <th>1</th>\n",
              "      <td>recent years pritpop type has become famous, t...</td>\n",
              "      <td>அண்மைய வருடங்களில் பிரிட்பாப் வகை பிரபலமடைந்து...</td>\n",
              "    </tr>\n",
              "    <tr>\n",
              "      <th>2</th>\n",
              "      <td>In the recent year Britpop type was famous and...</td>\n",
              "      <td>அண்மைய வருடங்களில் பிரிட்பாப் வகை பிரபலமடைந்து...</td>\n",
              "    </tr>\n",
              "    <tr>\n",
              "      <th>3</th>\n",
              "      <td>In recent years, Britpop type music was become...</td>\n",
              "      <td>அண்மைய வருடங்களில் பிரிட்பாப் வகை பிரபலமடைந்து...</td>\n",
              "    </tr>\n",
              "    <tr>\n",
              "      <th>4</th>\n",
              "      <td>duty honesty control</td>\n",
              "      <td>கடமை கண்ணியம் கட்டுபாடு</td>\n",
              "    </tr>\n",
              "  </tbody>\n",
              "</table>\n",
              "</div>\n",
              "      <button class=\"colab-df-convert\" onclick=\"convertToInteractive('df-fd06f6b3-d586-4bb3-a987-b46d6e876509')\"\n",
              "              title=\"Convert this dataframe to an interactive table.\"\n",
              "              style=\"display:none;\">\n",
              "        \n",
              "  <svg xmlns=\"http://www.w3.org/2000/svg\" height=\"24px\"viewBox=\"0 0 24 24\"\n",
              "       width=\"24px\">\n",
              "    <path d=\"M0 0h24v24H0V0z\" fill=\"none\"/>\n",
              "    <path d=\"M18.56 5.44l.94 2.06.94-2.06 2.06-.94-2.06-.94-.94-2.06-.94 2.06-2.06.94zm-11 1L8.5 8.5l.94-2.06 2.06-.94-2.06-.94L8.5 2.5l-.94 2.06-2.06.94zm10 10l.94 2.06.94-2.06 2.06-.94-2.06-.94-.94-2.06-.94 2.06-2.06.94z\"/><path d=\"M17.41 7.96l-1.37-1.37c-.4-.4-.92-.59-1.43-.59-.52 0-1.04.2-1.43.59L10.3 9.45l-7.72 7.72c-.78.78-.78 2.05 0 2.83L4 21.41c.39.39.9.59 1.41.59.51 0 1.02-.2 1.41-.59l7.78-7.78 2.81-2.81c.8-.78.8-2.07 0-2.86zM5.41 20L4 18.59l7.72-7.72 1.47 1.35L5.41 20z\"/>\n",
              "  </svg>\n",
              "      </button>\n",
              "      \n",
              "  <style>\n",
              "    .colab-df-container {\n",
              "      display:flex;\n",
              "      flex-wrap:wrap;\n",
              "      gap: 12px;\n",
              "    }\n",
              "\n",
              "    .colab-df-convert {\n",
              "      background-color: #E8F0FE;\n",
              "      border: none;\n",
              "      border-radius: 50%;\n",
              "      cursor: pointer;\n",
              "      display: none;\n",
              "      fill: #1967D2;\n",
              "      height: 32px;\n",
              "      padding: 0 0 0 0;\n",
              "      width: 32px;\n",
              "    }\n",
              "\n",
              "    .colab-df-convert:hover {\n",
              "      background-color: #E2EBFA;\n",
              "      box-shadow: 0px 1px 2px rgba(60, 64, 67, 0.3), 0px 1px 3px 1px rgba(60, 64, 67, 0.15);\n",
              "      fill: #174EA6;\n",
              "    }\n",
              "\n",
              "    [theme=dark] .colab-df-convert {\n",
              "      background-color: #3B4455;\n",
              "      fill: #D2E3FC;\n",
              "    }\n",
              "\n",
              "    [theme=dark] .colab-df-convert:hover {\n",
              "      background-color: #434B5C;\n",
              "      box-shadow: 0px 1px 3px 1px rgba(0, 0, 0, 0.15);\n",
              "      filter: drop-shadow(0px 1px 2px rgba(0, 0, 0, 0.3));\n",
              "      fill: #FFFFFF;\n",
              "    }\n",
              "  </style>\n",
              "\n",
              "      <script>\n",
              "        const buttonEl =\n",
              "          document.querySelector('#df-fd06f6b3-d586-4bb3-a987-b46d6e876509 button.colab-df-convert');\n",
              "        buttonEl.style.display =\n",
              "          google.colab.kernel.accessAllowed ? 'block' : 'none';\n",
              "\n",
              "        async function convertToInteractive(key) {\n",
              "          const element = document.querySelector('#df-fd06f6b3-d586-4bb3-a987-b46d6e876509');\n",
              "          const dataTable =\n",
              "            await google.colab.kernel.invokeFunction('convertToInteractive',\n",
              "                                                     [key], {});\n",
              "          if (!dataTable) return;\n",
              "\n",
              "          const docLinkHtml = 'Like what you see? Visit the ' +\n",
              "            '<a target=\"_blank\" href=https://colab.research.google.com/notebooks/data_table.ipynb>data table notebook</a>'\n",
              "            + ' to learn more about interactive tables.';\n",
              "          element.innerHTML = '';\n",
              "          dataTable['output_type'] = 'display_data';\n",
              "          await google.colab.output.renderOutput(dataTable, element);\n",
              "          const docLink = document.createElement('div');\n",
              "          docLink.innerHTML = docLinkHtml;\n",
              "          element.appendChild(docLink);\n",
              "        }\n",
              "      </script>\n",
              "    </div>\n",
              "  </div>\n",
              "  "
            ]
          },
          "metadata": {},
          "execution_count": 10
        }
      ],
      "source": [
        "df2.head()"
      ]
    },
    {
      "cell_type": "code",
      "execution_count": null,
      "metadata": {
        "id": "mTckqqBSO2wo"
      },
      "outputs": [],
      "source": [
        "df=pd.concat([df1,df2],ignore_index = True)"
      ]
    },
    {
      "cell_type": "code",
      "execution_count": null,
      "metadata": {
        "colab": {
          "base_uri": "https://localhost:8080/"
        },
        "id": "iSL3PE_bO7Iu",
        "outputId": "6f4db2e4-7973-43af-a02c-2a5624140340"
      },
      "outputs": [
        {
          "output_type": "execute_result",
          "data": {
            "text/plain": [
              "(35228, 2)"
            ]
          },
          "metadata": {},
          "execution_count": 12
        }
      ],
      "source": [
        "df.shape"
      ]
    },
    {
      "cell_type": "code",
      "execution_count": null,
      "metadata": {
        "id": "raJ14vCeO88c"
      },
      "outputs": [],
      "source": [
        "def clean_text(text):\n",
        "  #into lower case\n",
        "  text=text.lower()                                           \n",
        "  #remove the special characters\n",
        "  text = re.sub(pattern=\"'\",repl='',string=text)\n",
        "  text = re.sub(pattern='[^a-z]+',repl=' ',string=text)                \n",
        "  #remove extra spaces at end\n",
        "  text=text.strip()                                           \n",
        "  return text"
      ]
    },
    {
      "cell_type": "code",
      "execution_count": null,
      "metadata": {
        "id": "ZEXXwcJlPWeh"
      },
      "outputs": [],
      "source": [
        "df[\"english\"]=df[\"english\"].map(clean_text)"
      ]
    },
    {
      "cell_type": "code",
      "execution_count": null,
      "metadata": {
        "id": "0OtFlJxpPb6b"
      },
      "outputs": [],
      "source": [
        "#slice the datapoints (have more datapoints based on the hardware)\n",
        "df=df[:1000]"
      ]
    },
    {
      "cell_type": "markdown",
      "metadata": {
        "id": "LC_3midIRN9u"
      },
      "source": [
        "**Building the Vocabulary**"
      ]
    },
    {
      "cell_type": "code",
      "execution_count": null,
      "metadata": {
        "id": "Fjl7hyUOPdJ0"
      },
      "outputs": [],
      "source": [
        "#zipping the two language together\n",
        "lang_data = list(zip(df[\"english\"].values,df[\"tamil\"].values)) "
      ]
    },
    {
      "cell_type": "code",
      "execution_count": null,
      "metadata": {
        "colab": {
          "base_uri": "https://localhost:8080/"
        },
        "id": "DGIi4x0hRbZc",
        "outputId": "d87aaa3d-20e3-4699-f880-4c86f08146f0"
      },
      "outputs": [
        {
          "output_type": "execute_result",
          "data": {
            "text/plain": [
              "[('who is he', 'அவன் யார்?'),\n",
              " ('who knows', 'யாருக்குத் தெரியும்?'),\n",
              " ('she smiled', 'அவள் சிரித்தாள்'),\n",
              " ('talk to me', 'என்னிடம் பேசு'),\n",
              " ('who is she', 'அவள் யார்?'),\n",
              " ('go to sleep', 'போய் தூங்கு'),\n",
              " ('it may rain', 'மழை பெய்யலாம்')]"
            ]
          },
          "metadata": {},
          "execution_count": 17
        }
      ],
      "source": [
        "lang_data[3:10]"
      ]
    },
    {
      "cell_type": "code",
      "execution_count": null,
      "metadata": {
        "id": "JaX1qKUDRczy"
      },
      "outputs": [],
      "source": [
        "#class to build vocabulary\n",
        "#<blank>, SOS = Start of Sentence, EOS = End of Sentence\n",
        "class Lang:\n",
        "    def __init__(self, name):\n",
        "        self.name = name\n",
        "        #represent word with unique number\n",
        "        self.word2index = {\"<blank>\":0, \"SOS\":1,\"EOS\":2}\n",
        "        #no of words\n",
        "        self.word2count = {}\n",
        "        #to convert index to word\n",
        "        self.index2word = {0:\"<blank>\", 1: \"SOS\", 2: \"EOS\"}\n",
        "        #we have 3 items already (blank,sos,eos)\n",
        "        self.n_words = 3  # Count SOS and EOS\n",
        "\n",
        "    #function to add word to vocabulary\n",
        "    def addSentence(self, sentence):\n",
        "        #split sentence and add words to vocab\n",
        "        for word in sentence.split(' '):\n",
        "            self.addWord(word)\n",
        "\n",
        "    def addWord(self, word):\n",
        "        #we add the word, if word is not in vocab \n",
        "        if word not in self.word2index:\n",
        "            self.word2index[word] = self.n_words\n",
        "            self.word2count[word] = 1\n",
        "            self.index2word[self.n_words] = word\n",
        "            self.n_words += 1\n",
        "        else:\n",
        "            #increase the count of that word by 1\n",
        "            self.word2count[word] += 1"
      ]
    },
    {
      "cell_type": "code",
      "execution_count": null,
      "metadata": {
        "id": "fwGDhCmLR1zb"
      },
      "outputs": [],
      "source": [
        "#initiate the class\n",
        "eng_lang = Lang(\"english\")\n",
        "tam_lang = Lang(\"tamil\")"
      ]
    },
    {
      "cell_type": "code",
      "execution_count": null,
      "metadata": {
        "id": "vFEyk9oBT4-L"
      },
      "outputs": [],
      "source": [
        "#building the vocab for both english and tamil language\n",
        "for eng, tam in lang_data:\n",
        "  eng_lang.addSentence(eng)\n",
        "  tam_lang.addSentence(tam)"
      ]
    },
    {
      "cell_type": "markdown",
      "metadata": {
        "id": "gWAvjgHccpuU"
      },
      "source": [
        "**Data Preprocessing**"
      ]
    },
    {
      "cell_type": "code",
      "execution_count": null,
      "metadata": {
        "id": "BCZRCjZKUC1i"
      },
      "outputs": [],
      "source": [
        "#function to tokenize the source language\n",
        "def tokenize_eng(lang,sentence):\n",
        "    return [lang.word2index[word] for word in sentence.split(' ')]"
      ]
    },
    {
      "cell_type": "code",
      "execution_count": null,
      "metadata": {
        "id": "AjoEwbbNUain"
      },
      "outputs": [],
      "source": [
        "#function to tokenize the target language\n",
        "def tokenize_tam(lang,sentence):\n",
        "    sent = \"SOS\" + \" \" + sentence + \" \" + \"EOS\"\n",
        "    return [lang.word2index[word] for word in sent.split(' ')]"
      ]
    },
    {
      "cell_type": "code",
      "execution_count": null,
      "metadata": {
        "id": "SZykH_QRUbvu"
      },
      "outputs": [],
      "source": [
        "#converting to array\n",
        "import numpy as np\n",
        "lang_data = np.array(lang_data) "
      ]
    },
    {
      "cell_type": "code",
      "execution_count": null,
      "metadata": {
        "colab": {
          "base_uri": "https://localhost:8080/"
        },
        "id": "wympIlEKUltD",
        "outputId": "28db058e-614b-4ee1-b367-f01fd53aae9c"
      },
      "outputs": [
        {
          "output_type": "execute_result",
          "data": {
            "text/plain": [
              "array([['i slept', 'நான் தூங்கினேன்.'],\n",
              "       ['calm down', 'அமைதியாக இருங்கள்'],\n",
              "       ['ill walk', 'நான் நடப்பேன்.'],\n",
              "       ...,\n",
              "       ['this ip address to very important to communicate the internet',\n",
              "        'இந்த IP முகவரியானது வலைச் சேவையகத்தைத் தொடர்புகொள்ள மிகவும் அவசியமானதாகும்.'],\n",
              "       ['the ip address and the root path in an internet protocol based network',\n",
              "        'இந்த IP முகவரியானது வலைச் சேவையகத்தைத் தொடர்புகொள்ள மிகவும் அவசியமானதாகும்.'],\n",
              "       ['ip address is important to internet for connecting purpose',\n",
              "        'இந்த IP முகவரியானது வலைச் சேவையகத்தைத் தொடர்புகொள்ள மிகவும் அவசியமானதாகும்.']],\n",
              "      dtype='<U479')"
            ]
          },
          "metadata": {},
          "execution_count": 24
        }
      ],
      "source": [
        "lang_data"
      ]
    },
    {
      "cell_type": "code",
      "execution_count": null,
      "metadata": {
        "id": "u5UJ5dXlUmhe"
      },
      "outputs": [],
      "source": [
        "#tokenize the source language\n",
        "input_token=[tokenize_eng(eng_lang,i) for i in lang_data[:,0]]\n",
        "\n",
        "#tokenize the target language\n",
        "output_token=[tokenize_tam(tam_lang,i) for i in lang_data[:,1]]"
      ]
    },
    {
      "cell_type": "code",
      "execution_count": null,
      "metadata": {
        "colab": {
          "base_uri": "https://localhost:8080/"
        },
        "id": "jv7DQpCZVuM9",
        "outputId": "e7eea11a-54aa-4b54-ca0d-3518bc8cd5f3"
      },
      "outputs": [
        {
          "output_type": "execute_result",
          "data": {
            "text/plain": [
              "75"
            ]
          },
          "metadata": {},
          "execution_count": 26
        }
      ],
      "source": [
        "#checking the max length of input (source)\n",
        "input_len = map(lambda x: len(x), input_token)\n",
        "max_input_len = np.array(list(input_len)).max()\n",
        "max_input_len"
      ]
    },
    {
      "cell_type": "code",
      "execution_count": null,
      "metadata": {
        "colab": {
          "base_uri": "https://localhost:8080/"
        },
        "id": "NNsN-WGVVvSs",
        "outputId": "73880c83-eb7e-4099-814c-8b7e59e4236a"
      },
      "outputs": [
        {
          "output_type": "execute_result",
          "data": {
            "text/plain": [
              "44"
            ]
          },
          "metadata": {},
          "execution_count": 27
        }
      ],
      "source": [
        "#checking the max length of output (target)\n",
        "output_len = map(lambda x: len(x), output_token)\n",
        "max_output_len = np.array(list(output_len)).max()\n",
        "max_output_len"
      ]
    },
    {
      "cell_type": "code",
      "execution_count": null,
      "metadata": {
        "id": "9QxB5rLCYX5w"
      },
      "outputs": [],
      "source": [
        "#assigning the max_length to 80\n",
        "max_length=80"
      ]
    },
    {
      "cell_type": "code",
      "execution_count": null,
      "metadata": {
        "id": "ssO6PVM1Y0YY"
      },
      "outputs": [],
      "source": [
        "#creating the empty array\n",
        "input_tokenPad = np.zeros((len(input_token),max_length))\n",
        "output_tokenPad = np.zeros((len(output_token),max_length))"
      ]
    },
    {
      "cell_type": "code",
      "execution_count": null,
      "metadata": {
        "id": "87nyaF_HY38X"
      },
      "outputs": [],
      "source": [
        "#source \n",
        "for i,v in enumerate(input_token):\n",
        "    for j, token in enumerate(v):\n",
        "        input_tokenPad[i,j] = token"
      ]
    },
    {
      "cell_type": "code",
      "execution_count": null,
      "metadata": {
        "id": "GiIAS78fY5ZA"
      },
      "outputs": [],
      "source": [
        "#target\n",
        "for i,v in enumerate(output_token):\n",
        "    for j, token in enumerate(v):\n",
        "        output_tokenPad[i,j] = token"
      ]
    },
    {
      "cell_type": "code",
      "execution_count": null,
      "metadata": {
        "colab": {
          "base_uri": "https://localhost:8080/"
        },
        "id": "XhDe8Ak2ZrTQ",
        "outputId": "11fcf874-a27d-488b-da02-e6aa4a22dfdf"
      },
      "outputs": [
        {
          "output_type": "execute_result",
          "data": {
            "text/plain": [
              "(1000, 80)"
            ]
          },
          "metadata": {},
          "execution_count": 32
        }
      ],
      "source": [
        "input_tokenPad.shape"
      ]
    },
    {
      "cell_type": "code",
      "execution_count": null,
      "metadata": {
        "colab": {
          "base_uri": "https://localhost:8080/"
        },
        "id": "aLnzRYnUZslq",
        "outputId": "71e69c97-b7ea-4d3c-9995-84e88790e11f"
      },
      "outputs": [
        {
          "output_type": "execute_result",
          "data": {
            "text/plain": [
              "(1000, 80)"
            ]
          },
          "metadata": {},
          "execution_count": 33
        }
      ],
      "source": [
        "output_tokenPad.shape"
      ]
    },
    {
      "cell_type": "code",
      "execution_count": null,
      "metadata": {
        "id": "0oJvXL3XZuMN"
      },
      "outputs": [],
      "source": [
        "#spliting the data\n",
        "from sklearn.model_selection import train_test_split\n",
        "train_eng, valid_eng,train_tam,valid_tam = train_test_split(input_tokenPad,output_tokenPad,test_size=0.2,shuffle=True)"
      ]
    },
    {
      "cell_type": "code",
      "execution_count": null,
      "metadata": {
        "id": "RmwGr_-9apfD"
      },
      "outputs": [],
      "source": [
        "#converting to tensor\n",
        "import torch\n",
        "from torch.utils.data import TensorDataset, DataLoader\n",
        "train_data = TensorDataset(torch.from_numpy(train_eng).long(),torch.from_numpy(train_tam).long())\n",
        "valid_data = TensorDataset(torch.from_numpy(valid_eng).long(),torch.from_numpy(valid_tam).long())"
      ]
    },
    {
      "cell_type": "code",
      "execution_count": null,
      "metadata": {
        "id": "hcbChVaUa3iV"
      },
      "outputs": [],
      "source": [
        "#loads the data and serves the data in batches\n",
        "batch_size = 32\n",
        "train_loader= DataLoader(train_data,shuffle=True,batch_size=batch_size)\n",
        "valid_loader =DataLoader(valid_data,shuffle=True,batch_size=batch_size)"
      ]
    },
    {
      "cell_type": "code",
      "execution_count": null,
      "metadata": {
        "id": "Q142nt1Fb7JD"
      },
      "outputs": [],
      "source": []
    },
    {
      "cell_type": "markdown",
      "metadata": {
        "id": "MYDiou9ccwGW"
      },
      "source": [
        "**Lets bulid the model**"
      ]
    },
    {
      "cell_type": "code",
      "execution_count": null,
      "metadata": {
        "id": "J68bZEFuc0OS"
      },
      "outputs": [],
      "source": [
        "#required libraries\n",
        "import torch.nn as nn\n",
        "import torch"
      ]
    },
    {
      "cell_type": "markdown",
      "metadata": {
        "id": "vMuWWloFE2Ky"
      },
      "source": [
        "Positional Encoding\n",
        "\n",
        "![image.png](data:image/png;base64,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)"
      ]
    },
    {
      "cell_type": "code",
      "execution_count": null,
      "metadata": {
        "id": "6Ua0P1NvdAJa"
      },
      "outputs": [],
      "source": [
        "#positional encoding\n",
        "class PositionalEncoding(nn.Module):\n",
        "    def __init__(self, d_model, dropout=0.1, max_len=5000):\n",
        "        super(PositionalEncoding, self).__init__()\n",
        "        self.dropout = nn.Dropout(p=dropout)\n",
        "        self.d_model = d_model\n",
        "        pe = torch.zeros(max_len, d_model)\n",
        "        #numerator\n",
        "        position = torch.arange(0, max_len, dtype=torch.float).unsqueeze(1)\n",
        "        #denominator\n",
        "        div_term = torch.exp(torch.arange(0, d_model, 2).float() * (-math.log(10000.0) / d_model))\n",
        "        #sin function for even index\n",
        "        pe[:, 0::2] = torch.sin(position * div_term)\n",
        "        #cos function for odd index\n",
        "        pe[:, 1::2] = torch.cos(position * div_term)\n",
        "        pe = pe.unsqueeze(0).transpose(0, 1)\n",
        "        self.register_buffer('pe', pe)\n",
        "\n",
        "    def forward(self, x):\n",
        "        #multiply the input with positional encoding\n",
        "        x = x * math.sqrt(self.d_model)\n",
        "        x = x + self.pe[:x.size(0), :]\n",
        "        return self.dropout(x)\n"
      ]
    },
    {
      "cell_type": "markdown",
      "metadata": {
        "id": "F2UNr_NxFKW_"
      },
      "source": [
        "Transformers\n",
        "\n",
        "![image.png](data:image/png;base64,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)"
      ]
    },
    {
      "cell_type": "code",
      "execution_count": null,
      "metadata": {
        "id": "i_MBHPefdKpz"
      },
      "outputs": [],
      "source": [
        "#Transformers class\n",
        "class MyTransformer(nn.Module):\n",
        "    def __init__(self, d_model: int = 512, nhead: int = 8, num_encoder_layers: int = 6,\n",
        "                 num_decoder_layers: int = 6, dim_feedforward: int = 2048, dropout: float = 0.1,\n",
        "                 activation: str = \"relu\",source_vocab_length: int = 60000,target_vocab_length: int = 60000) -> None:\n",
        "        super(MyTransformer, self).__init__()\n",
        "        #embeddings\n",
        "        self.source_embedding = nn.Embedding(source_vocab_length, d_model)\n",
        "        self.target_embedding = nn.Embedding(target_vocab_length, d_model)\n",
        "        \n",
        "        #initialize positional encoding\n",
        "        self.pos_encoder = PositionalEncoding(d_model)\n",
        "        \n",
        "        #initialize the encoder layer\n",
        "        encoder_layer = nn.TransformerEncoderLayer(d_model, nhead, dim_feedforward, dropout, activation)\n",
        "        #layer normalization\n",
        "        encoder_norm = nn.LayerNorm(d_model)\n",
        "        self.encoder = nn.TransformerEncoder(encoder_layer, num_encoder_layers, encoder_norm)\n",
        "        \n",
        "        #initialize the decoder layer\n",
        "        decoder_layer = nn.TransformerDecoderLayer(d_model, nhead, dim_feedforward, dropout, activation)\n",
        "        #layer normalization\n",
        "        decoder_norm = nn.LayerNorm(d_model)\n",
        "        self.decoder = nn.TransformerDecoder(decoder_layer, num_decoder_layers, decoder_norm)\n",
        "        \n",
        "        #linear layer\n",
        "        self.out = nn.Linear(512, target_vocab_length)\n",
        "        self._reset_parameters()\n",
        "        self.d_model = d_model\n",
        "        self.nhead = nhead\n",
        "\n",
        "    def forward(self, src, tgt, src_mask= None, tgt_mask = None,\n",
        "                memory_mask = None, src_key_padding_mask= None,\n",
        "                tgt_key_padding_mask = None, memory_key_padding_mask = None):\n",
        "        if src.size(1) != tgt.size(1):\n",
        "            raise RuntimeError(\"the batch number of src and tgt must be equal\")\n",
        "        #convert source language into embedding\n",
        "        src = self.source_embedding(src)\n",
        "        #add the positional encoding \n",
        "        src = self.pos_encoder(src)\n",
        "        #pass it to the encoder\n",
        "        memory = self.encoder(src, mask=src_mask, src_key_padding_mask=src_key_padding_mask)\n",
        "        #convert target langauge into embedding\n",
        "        tgt = self.target_embedding(tgt)\n",
        "        #add the positional encoding \n",
        "        tgt = self.pos_encoder(tgt)\n",
        "        #pass the target embedding and encoder representation to decoder\n",
        "        output = self.decoder(tgt, memory, tgt_mask=tgt_mask, memory_mask=memory_mask,\n",
        "                              tgt_key_padding_mask=tgt_key_padding_mask,\n",
        "                              memory_key_padding_mask=memory_key_padding_mask)\n",
        "        #output layer\n",
        "        output = self.out(output)\n",
        "        return output\n",
        "\n",
        "    #Initiate parameters in the transformer model\n",
        "    def _reset_parameters(self):\n",
        "        for p in self.parameters():\n",
        "            if p.dim() > 1:\n",
        "                nn.init.xavier_uniform_(p)"
      ]
    },
    {
      "cell_type": "code",
      "execution_count": null,
      "metadata": {
        "id": "KTLLfCc9dK8i"
      },
      "outputs": [],
      "source": [
        "#no of words in source language\n",
        "source_vocab_length=eng_lang.n_words\n",
        "\n",
        "#no of words in target language\n",
        "target_vocab_length=tam_lang.n_words"
      ]
    },
    {
      "cell_type": "code",
      "execution_count": null,
      "metadata": {
        "id": "395lkQKLi8Hu"
      },
      "outputs": [],
      "source": [
        "#transformer model\n",
        "import math\n",
        "model = MyTransformer(source_vocab_length=source_vocab_length,target_vocab_length=target_vocab_length)\n",
        "\n",
        "if torch.cuda.is_available():\n",
        "    model = model.cuda()"
      ]
    },
    {
      "cell_type": "code",
      "execution_count": null,
      "metadata": {
        "id": "hS485wqkjMp-"
      },
      "outputs": [],
      "source": [
        "#Adam optimiser\n",
        "optim = torch.optim.Adam(model.parameters(), lr=0.0001, betas=(0.9, 0.9), eps=1e-9)\n"
      ]
    },
    {
      "cell_type": "code",
      "execution_count": null,
      "metadata": {
        "id": "Vdg7pPD2j3Q-"
      },
      "outputs": [],
      "source": [
        "import torch\n",
        "def train(train_loader, valid_loader, model, optim, num_epochs): \n",
        "    #losses\n",
        "    train_losses = []\n",
        "    val_losses = []\n",
        "    best_val_loss = 1000000\n",
        "    for epoch in range(num_epochs):\n",
        "        train_loss = 0\n",
        "        val_loss=0\n",
        "        # set the model to train mode\n",
        "        model.train()\n",
        "        for i, batch in enumerate(train_loader): \n",
        "            if torch.cuda.is_available():\n",
        "                #source\n",
        "                src = batch[0].cuda() \n",
        "                #target\n",
        "                trg =batch[1].cuda() \n",
        "            else:\n",
        "                src = batch[0]\n",
        "                trg =batch[1]\n",
        "\n",
        "            trg_input = trg[:, :-1]\n",
        "            #actual target\n",
        "            targets = trg[:, 1:].contiguous().view(-1)\n",
        "            size = trg_input.size(1)\n",
        "            \n",
        "            #no peek mask for the decoder   \n",
        "            np_mask = torch.triu(torch.ones(size, size)==1).transpose(0,1)\n",
        "            np_mask = np_mask.float().masked_fill(np_mask == 0, float('-inf')).masked_fill(np_mask == 1, float(0.0))\n",
        "            np_mask = np_mask.cuda() if True else np_mask    \n",
        "            \n",
        "            #clearing the Gradients \n",
        "            optim.zero_grad()\n",
        "            #predict the output\n",
        "            preds = model(src.transpose(0,1), trg_input.transpose(0,1), tgt_mask = np_mask)\n",
        "            #linear layer generates the logits vector whose size is our vocabulary size\n",
        "            preds = preds.transpose(0,1).contiguous().view(-1, preds.size(-1))\n",
        "            \n",
        "            #calculate training loss\n",
        "            loss = nn.functional.cross_entropy(preds,targets, ignore_index=0,reduction='sum')\n",
        "            \n",
        "            #back propagate\n",
        "            loss.backward()\n",
        "            optim.step()\n",
        "            train_loss += loss.item()/batch_size        \n",
        "        \n",
        "        #set the model to eval mode\n",
        "        model.eval()\n",
        "        with torch.no_grad():\n",
        "            for i, batch in enumerate(valid_loader):\n",
        "                if torch.cuda.is_available():\n",
        "                    #source\n",
        "                    src = batch[0].cuda() \n",
        "                    #target\n",
        "                    trg =batch[1].cuda() \n",
        "                else:\n",
        "                    src = batch[0]\n",
        "                    trg =batch[1]\n",
        "\n",
        "                trg_input = trg[:, :-1]\n",
        "                #actual target\n",
        "                targets = trg[:, 1:].contiguous().view(-1)\n",
        "                size = trg_input.size(1)\n",
        "                \n",
        "                #no peek mask for the decoder   \n",
        "                np_mask = torch.triu(torch.ones(size, size)==1).transpose(0,1)\n",
        "                np_mask = np_mask.float().masked_fill(np_mask == 0, float('-inf')).masked_fill(np_mask == 1, float(0.0))\n",
        "                np_mask = np_mask.cuda() if True else np_mask    \n",
        "                \n",
        "                #predict the output\n",
        "                preds = model(src.transpose(0,1), trg_input.transpose(0,1), tgt_mask = np_mask)\n",
        "                #linear layer generates the logits vector whose size is our vocabulary size\n",
        "                preds = preds.transpose(0,1).contiguous().view(-1, preds.size(-1))\n",
        "                \n",
        "                #calculate validation loss\n",
        "                loss = nn.functional.cross_entropy(preds,targets, ignore_index=0,reduction='sum')\n",
        "                val_loss += loss.item()/1\n",
        "        #append the traning loss\n",
        "        train_losses.append(train_loss/len(train_loader))\n",
        "        val_losses.append(val_loss/len(valid_loader))         \n",
        "        print(\"Epoch {0} Training loss: {1}\".format(epoch+1,train_loss), \"Val loss: {0}\".format(val_loss))\n",
        "        if val_loss < best_val_loss:\n",
        "          torch.save(model, f'/content/gdrive/MyDrive/Models/{epoch+1}.pth')\n",
        "          best_val_loss = val_loss\n",
        "    return train_losses,val_losses"
      ]
    },
    {
      "cell_type": "code",
      "execution_count": null,
      "metadata": {
        "colab": {
          "base_uri": "https://localhost:8080/",
          "height": 562
        },
        "id": "8rQzmRJcl8re",
        "outputId": "4d665473-c431-4ea0-84bb-7d37c9cd1f77"
      },
      "outputs": [
        {
          "name": "stdout",
          "output_type": "stream",
          "text": [
            "Epoch 1 Training loss: 5.334908656775951 Val loss: 2300.5811080932617\n",
            "Epoch 2 Training loss: 4.904294945299625 Val loss: 2456.8512268066406\n",
            "Epoch 3 Training loss: 4.81286583840847 Val loss: 2432.479839324951\n",
            "Epoch 4 Training loss: 4.93040069937706 Val loss: 2433.393264770508\n",
            "Epoch 5 Training loss: 4.563778921961784 Val loss: 2436.084701538086\n",
            "Epoch 6 Training loss: 3.4743727222085 Val loss: 2441.7644233703613\n",
            "Epoch 7 Training loss: 3.560394611209631 Val loss: 2464.388847351074\n",
            "Epoch 8 Training loss: 3.479350760579109 Val loss: 2415.4876098632812\n",
            "Epoch 9 Training loss: 2.6654453352093697 Val loss: 2437.2326889038086\n",
            "Epoch 10 Training loss: 2.6707431487739086 Val loss: 2437.287399291992\n",
            "Epoch 11 Training loss: 2.51159305870533 Val loss: 2480.697067260742\n"
          ]
        },
        {
          "ename": "KeyboardInterrupt",
          "evalue": "ignored",
          "output_type": "error",
          "traceback": [
            "\u001b[0;31m---------------------------------------------------------------------------\u001b[0m",
            "\u001b[0;31mKeyboardInterrupt\u001b[0m                         Traceback (most recent call last)",
            "\u001b[0;32m<ipython-input-69-7767da3ba677>\u001b[0m in \u001b[0;36m<module>\u001b[0;34m\u001b[0m\n\u001b[1;32m      1\u001b[0m \u001b[0mnum_epochs\u001b[0m\u001b[0;34m=\u001b[0m\u001b[0;36m40\u001b[0m\u001b[0;34m\u001b[0m\u001b[0;34m\u001b[0m\u001b[0m\n\u001b[0;32m----> 2\u001b[0;31m \u001b[0mtrain_losses\u001b[0m\u001b[0;34m,\u001b[0m\u001b[0mval_losses\u001b[0m \u001b[0;34m=\u001b[0m \u001b[0mtrain\u001b[0m\u001b[0;34m(\u001b[0m\u001b[0mtrain_loader\u001b[0m\u001b[0;34m,\u001b[0m\u001b[0mvalid_loader\u001b[0m \u001b[0;34m,\u001b[0m\u001b[0mmodel\u001b[0m\u001b[0;34m,\u001b[0m \u001b[0moptim\u001b[0m\u001b[0;34m,\u001b[0m \u001b[0mnum_epochs\u001b[0m\u001b[0;34m)\u001b[0m\u001b[0;34m\u001b[0m\u001b[0;34m\u001b[0m\u001b[0m\n\u001b[0m",
            "\u001b[0;32m<ipython-input-68-e2fac84ccf2c>\u001b[0m in \u001b[0;36mtrain\u001b[0;34m(train_loader, valid_loader, model, optim, num_epochs)\u001b[0m\n\u001b[1;32m     42\u001b[0m             \u001b[0;31m#back propagate\u001b[0m\u001b[0;34m\u001b[0m\u001b[0;34m\u001b[0m\u001b[0m\n\u001b[1;32m     43\u001b[0m             \u001b[0mloss\u001b[0m\u001b[0;34m.\u001b[0m\u001b[0mbackward\u001b[0m\u001b[0;34m(\u001b[0m\u001b[0;34m)\u001b[0m\u001b[0;34m\u001b[0m\u001b[0;34m\u001b[0m\u001b[0m\n\u001b[0;32m---> 44\u001b[0;31m             \u001b[0moptim\u001b[0m\u001b[0;34m.\u001b[0m\u001b[0mstep\u001b[0m\u001b[0;34m(\u001b[0m\u001b[0;34m)\u001b[0m\u001b[0;34m\u001b[0m\u001b[0;34m\u001b[0m\u001b[0m\n\u001b[0m\u001b[1;32m     45\u001b[0m             \u001b[0mtrain_loss\u001b[0m \u001b[0;34m+=\u001b[0m \u001b[0mloss\u001b[0m\u001b[0;34m.\u001b[0m\u001b[0mitem\u001b[0m\u001b[0;34m(\u001b[0m\u001b[0;34m)\u001b[0m\u001b[0;34m/\u001b[0m\u001b[0mbatch_size\u001b[0m\u001b[0;34m\u001b[0m\u001b[0;34m\u001b[0m\u001b[0m\n\u001b[1;32m     46\u001b[0m \u001b[0;34m\u001b[0m\u001b[0m\n",
            "\u001b[0;32m/usr/local/lib/python3.9/dist-packages/torch/optim/optimizer.py\u001b[0m in \u001b[0;36mwrapper\u001b[0;34m(*args, **kwargs)\u001b[0m\n\u001b[1;32m    138\u001b[0m                 \u001b[0mprofile_name\u001b[0m \u001b[0;34m=\u001b[0m \u001b[0;34m\"Optimizer.step#{}.step\"\u001b[0m\u001b[0;34m.\u001b[0m\u001b[0mformat\u001b[0m\u001b[0;34m(\u001b[0m\u001b[0mobj\u001b[0m\u001b[0;34m.\u001b[0m\u001b[0m__class__\u001b[0m\u001b[0;34m.\u001b[0m\u001b[0m__name__\u001b[0m\u001b[0;34m)\u001b[0m\u001b[0;34m\u001b[0m\u001b[0;34m\u001b[0m\u001b[0m\n\u001b[1;32m    139\u001b[0m                 \u001b[0;32mwith\u001b[0m \u001b[0mtorch\u001b[0m\u001b[0;34m.\u001b[0m\u001b[0mautograd\u001b[0m\u001b[0;34m.\u001b[0m\u001b[0mprofiler\u001b[0m\u001b[0;34m.\u001b[0m\u001b[0mrecord_function\u001b[0m\u001b[0;34m(\u001b[0m\u001b[0mprofile_name\u001b[0m\u001b[0;34m)\u001b[0m\u001b[0;34m:\u001b[0m\u001b[0;34m\u001b[0m\u001b[0;34m\u001b[0m\u001b[0m\n\u001b[0;32m--> 140\u001b[0;31m                     \u001b[0mout\u001b[0m \u001b[0;34m=\u001b[0m \u001b[0mfunc\u001b[0m\u001b[0;34m(\u001b[0m\u001b[0;34m*\u001b[0m\u001b[0margs\u001b[0m\u001b[0;34m,\u001b[0m \u001b[0;34m**\u001b[0m\u001b[0mkwargs\u001b[0m\u001b[0;34m)\u001b[0m\u001b[0;34m\u001b[0m\u001b[0;34m\u001b[0m\u001b[0m\n\u001b[0m\u001b[1;32m    141\u001b[0m                     \u001b[0mobj\u001b[0m\u001b[0;34m.\u001b[0m\u001b[0m_optimizer_step_code\u001b[0m\u001b[0;34m(\u001b[0m\u001b[0;34m)\u001b[0m\u001b[0;34m\u001b[0m\u001b[0;34m\u001b[0m\u001b[0m\n\u001b[1;32m    142\u001b[0m                     \u001b[0;32mreturn\u001b[0m \u001b[0mout\u001b[0m\u001b[0;34m\u001b[0m\u001b[0;34m\u001b[0m\u001b[0m\n",
            "\u001b[0;32m/usr/local/lib/python3.9/dist-packages/torch/optim/optimizer.py\u001b[0m in \u001b[0;36m_use_grad\u001b[0;34m(self, *args, **kwargs)\u001b[0m\n\u001b[1;32m     21\u001b[0m         \u001b[0;32mtry\u001b[0m\u001b[0;34m:\u001b[0m\u001b[0;34m\u001b[0m\u001b[0;34m\u001b[0m\u001b[0m\n\u001b[1;32m     22\u001b[0m             \u001b[0mtorch\u001b[0m\u001b[0;34m.\u001b[0m\u001b[0mset_grad_enabled\u001b[0m\u001b[0;34m(\u001b[0m\u001b[0mself\u001b[0m\u001b[0;34m.\u001b[0m\u001b[0mdefaults\u001b[0m\u001b[0;34m[\u001b[0m\u001b[0;34m'differentiable'\u001b[0m\u001b[0;34m]\u001b[0m\u001b[0;34m)\u001b[0m\u001b[0;34m\u001b[0m\u001b[0;34m\u001b[0m\u001b[0m\n\u001b[0;32m---> 23\u001b[0;31m             \u001b[0mret\u001b[0m \u001b[0;34m=\u001b[0m \u001b[0mfunc\u001b[0m\u001b[0;34m(\u001b[0m\u001b[0mself\u001b[0m\u001b[0;34m,\u001b[0m \u001b[0;34m*\u001b[0m\u001b[0margs\u001b[0m\u001b[0;34m,\u001b[0m \u001b[0;34m**\u001b[0m\u001b[0mkwargs\u001b[0m\u001b[0;34m)\u001b[0m\u001b[0;34m\u001b[0m\u001b[0;34m\u001b[0m\u001b[0m\n\u001b[0m\u001b[1;32m     24\u001b[0m         \u001b[0;32mfinally\u001b[0m\u001b[0;34m:\u001b[0m\u001b[0;34m\u001b[0m\u001b[0;34m\u001b[0m\u001b[0m\n\u001b[1;32m     25\u001b[0m             \u001b[0mtorch\u001b[0m\u001b[0;34m.\u001b[0m\u001b[0mset_grad_enabled\u001b[0m\u001b[0;34m(\u001b[0m\u001b[0mprev_grad\u001b[0m\u001b[0;34m)\u001b[0m\u001b[0;34m\u001b[0m\u001b[0;34m\u001b[0m\u001b[0m\n",
            "\u001b[0;32m/usr/local/lib/python3.9/dist-packages/torch/optim/adam.py\u001b[0m in \u001b[0;36mstep\u001b[0;34m(self, closure, grad_scaler)\u001b[0m\n\u001b[1;32m    232\u001b[0m                     \u001b[0mstate_steps\u001b[0m\u001b[0;34m.\u001b[0m\u001b[0mappend\u001b[0m\u001b[0;34m(\u001b[0m\u001b[0mstate\u001b[0m\u001b[0;34m[\u001b[0m\u001b[0;34m'step'\u001b[0m\u001b[0;34m]\u001b[0m\u001b[0;34m)\u001b[0m\u001b[0;34m\u001b[0m\u001b[0;34m\u001b[0m\u001b[0m\n\u001b[1;32m    233\u001b[0m \u001b[0;34m\u001b[0m\u001b[0m\n\u001b[0;32m--> 234\u001b[0;31m             adam(params_with_grad,\n\u001b[0m\u001b[1;32m    235\u001b[0m                  \u001b[0mgrads\u001b[0m\u001b[0;34m,\u001b[0m\u001b[0;34m\u001b[0m\u001b[0;34m\u001b[0m\u001b[0m\n\u001b[1;32m    236\u001b[0m                  \u001b[0mexp_avgs\u001b[0m\u001b[0;34m,\u001b[0m\u001b[0;34m\u001b[0m\u001b[0;34m\u001b[0m\u001b[0m\n",
            "\u001b[0;32m/usr/local/lib/python3.9/dist-packages/torch/optim/adam.py\u001b[0m in \u001b[0;36madam\u001b[0;34m(params, grads, exp_avgs, exp_avg_sqs, max_exp_avg_sqs, state_steps, foreach, capturable, differentiable, fused, grad_scale, found_inf, amsgrad, beta1, beta2, lr, weight_decay, eps, maximize)\u001b[0m\n\u001b[1;32m    298\u001b[0m         \u001b[0mfunc\u001b[0m \u001b[0;34m=\u001b[0m \u001b[0m_single_tensor_adam\u001b[0m\u001b[0;34m\u001b[0m\u001b[0;34m\u001b[0m\u001b[0m\n\u001b[1;32m    299\u001b[0m \u001b[0;34m\u001b[0m\u001b[0m\n\u001b[0;32m--> 300\u001b[0;31m     func(params,\n\u001b[0m\u001b[1;32m    301\u001b[0m          \u001b[0mgrads\u001b[0m\u001b[0;34m,\u001b[0m\u001b[0;34m\u001b[0m\u001b[0;34m\u001b[0m\u001b[0m\n\u001b[1;32m    302\u001b[0m          \u001b[0mexp_avgs\u001b[0m\u001b[0;34m,\u001b[0m\u001b[0;34m\u001b[0m\u001b[0;34m\u001b[0m\u001b[0m\n",
            "\u001b[0;32m/usr/local/lib/python3.9/dist-packages/torch/optim/adam.py\u001b[0m in \u001b[0;36m_single_tensor_adam\u001b[0;34m(params, grads, exp_avgs, exp_avg_sqs, max_exp_avg_sqs, state_steps, grad_scale, found_inf, amsgrad, beta1, beta2, lr, weight_decay, eps, maximize, capturable, differentiable)\u001b[0m\n\u001b[1;32m    408\u001b[0m                 \u001b[0mdenom\u001b[0m \u001b[0;34m=\u001b[0m \u001b[0;34m(\u001b[0m\u001b[0mmax_exp_avg_sqs\u001b[0m\u001b[0;34m[\u001b[0m\u001b[0mi\u001b[0m\u001b[0;34m]\u001b[0m\u001b[0;34m.\u001b[0m\u001b[0msqrt\u001b[0m\u001b[0;34m(\u001b[0m\u001b[0;34m)\u001b[0m \u001b[0;34m/\u001b[0m \u001b[0mbias_correction2_sqrt\u001b[0m\u001b[0;34m)\u001b[0m\u001b[0;34m.\u001b[0m\u001b[0madd_\u001b[0m\u001b[0;34m(\u001b[0m\u001b[0meps\u001b[0m\u001b[0;34m)\u001b[0m\u001b[0;34m\u001b[0m\u001b[0;34m\u001b[0m\u001b[0m\n\u001b[1;32m    409\u001b[0m             \u001b[0;32melse\u001b[0m\u001b[0;34m:\u001b[0m\u001b[0;34m\u001b[0m\u001b[0;34m\u001b[0m\u001b[0m\n\u001b[0;32m--> 410\u001b[0;31m                 \u001b[0mdenom\u001b[0m \u001b[0;34m=\u001b[0m \u001b[0;34m(\u001b[0m\u001b[0mexp_avg_sq\u001b[0m\u001b[0;34m.\u001b[0m\u001b[0msqrt\u001b[0m\u001b[0;34m(\u001b[0m\u001b[0;34m)\u001b[0m \u001b[0;34m/\u001b[0m \u001b[0mbias_correction2_sqrt\u001b[0m\u001b[0;34m)\u001b[0m\u001b[0;34m.\u001b[0m\u001b[0madd_\u001b[0m\u001b[0;34m(\u001b[0m\u001b[0meps\u001b[0m\u001b[0;34m)\u001b[0m\u001b[0;34m\u001b[0m\u001b[0;34m\u001b[0m\u001b[0m\n\u001b[0m\u001b[1;32m    411\u001b[0m \u001b[0;34m\u001b[0m\u001b[0m\n\u001b[1;32m    412\u001b[0m             \u001b[0mparam\u001b[0m\u001b[0;34m.\u001b[0m\u001b[0maddcdiv_\u001b[0m\u001b[0;34m(\u001b[0m\u001b[0mexp_avg\u001b[0m\u001b[0;34m,\u001b[0m \u001b[0mdenom\u001b[0m\u001b[0;34m,\u001b[0m \u001b[0mvalue\u001b[0m\u001b[0;34m=\u001b[0m\u001b[0;34m-\u001b[0m\u001b[0mstep_size\u001b[0m\u001b[0;34m)\u001b[0m\u001b[0;34m\u001b[0m\u001b[0;34m\u001b[0m\u001b[0m\n",
            "\u001b[0;31mKeyboardInterrupt\u001b[0m: "
          ]
        }
      ],
      "source": [
        "num_epochs=40\n",
        "train_losses,val_losses = train(train_loader,valid_loader ,model, optim, num_epochs)"
      ]
    },
    {
      "cell_type": "code",
      "execution_count": null,
      "metadata": {
        "id": "gLEpYmInqp6f"
      },
      "outputs": [],
      "source": [
        "#to save the model\n",
        "torch.save(model, \"transformer_model_eng2tamil.h5\")"
      ]
    },
    {
      "cell_type": "code",
      "execution_count": null,
      "metadata": {
        "colab": {
          "base_uri": "https://localhost:8080/",
          "height": 265
        },
        "id": "usp4LpzYvVmD",
        "outputId": "3cc2d2d0-7348-4ede-aacc-b8001aee1d38"
      },
      "outputs": [
        {
          "data": {
            "image/png": "[encoded data removed]",
            "text/plain": [
              "<Figure size 432x288 with 1 Axes>"
            ]
          },
          "metadata": {
            "needs_background": "light"
          },
          "output_type": "display_data"
        }
      ],
      "source": [
        "#plotting the losses, loss is decreasing for each epoch\n",
        "import matplotlib.pyplot as plt\n",
        "plt.plot(train_losses, label='Training loss')\n",
        "plt.plot(val_losses, label='Validation loss')\n",
        "plt.legend()\n",
        "plt.show()"
      ]
    },
    {
      "cell_type": "code",
      "execution_count": null,
      "metadata": {
        "id": "nmlzuDNbuklL"
      },
      "outputs": [],
      "source": [
        "# Inference\n",
        "model = torch.load('/content/gdrive/MyDrive/Models/eng2tamil.pth')"
      ]
    },
    {
      "cell_type": "markdown",
      "metadata": {
        "id": "XEW-lXXYmJby"
      },
      "source": [
        "**Prediction**"
      ]
    },
    {
      "cell_type": "code",
      "execution_count": null,
      "metadata": {
        "id": "IufFqyUcpaxX"
      },
      "outputs": [],
      "source": [
        "import torch\n",
        "from torch.autograd import Variable\n",
        "import math\n",
        "\n",
        "def eng_to_tam_converter(model,sentence):\n",
        "    #set the model to eval mode\n",
        "    model.eval()\n",
        "    #split the input sentence\n",
        "    sentence = sentence.split()\n",
        "    translated_sentence=\"\"\n",
        "    #converting the word to index\n",
        "    indexed = []\n",
        "    for tok in sentence:\n",
        "        try:\n",
        "            if eng_lang.word2index[tok] != 0 :\n",
        "                indexed.append(eng_lang.word2index[tok])\n",
        "            else:\n",
        "                indexed.append(0)\n",
        "        except:\n",
        "            print(tok,\"is not in vocab\")\n",
        "    \n",
        "    #convert the indexes into tensor\n",
        "    sentence = Variable(torch.LongTensor([indexed])).cuda()  if True else Variable(torch.LongTensor([indexed]))\n",
        "    \n",
        "    #first token to the decoder\n",
        "    trg_init_tok =eng_lang.word2index[\"SOS\"]\n",
        "    trg = torch.LongTensor([[trg_init_tok]]).cuda() if True else torch.LongTensor([[trg_init_tok]])\n",
        "    translated_sentence = \"\"\n",
        "    print(\"Converting...\")\n",
        "\n",
        "    #max embedding size\n",
        "    maxlen = 150\n",
        "    for i in range(maxlen):\n",
        "        #predict the target word\n",
        "        pred = model(sentence.transpose(0,1), trg)\n",
        "        #convert the predicted index to word\n",
        "        add_word = tam_lang.index2word[pred.argmax(dim=2)[-1].item()] \n",
        "        print(add_word)\n",
        "        #end when we got EOS (end of sentence)\n",
        "        if add_word==\"EOS\":\n",
        "            break\n",
        "        #update the translated_sentence\n",
        "        translated_sentence+=\" \"+add_word\n",
        "        #pass the predict word to the decoder as input\n",
        "        trg = torch.cat((trg,torch.LongTensor([[pred.argmax(dim=2)[-1]]]).cuda()))\n",
        "    print(\"\\nConverted sentence:-\")\n",
        "    return translated_sentence"
      ]
    },
    {
      "cell_type": "markdown",
      "metadata": {
        "id": "EuamLENDuWF_"
      },
      "source": [
        "*Example 1:*"
      ]
    },
    {
      "cell_type": "code",
      "execution_count": null,
      "metadata": {
        "colab": {
          "base_uri": "https://localhost:8080/"
        },
        "id": "pwPQWkSyyC0g",
        "outputId": "2288fdb4-140b-4efc-c83a-5440d908917c"
      },
      "outputs": [
        {
          "output_type": "stream",
          "name": "stdout",
          "text": [
            "astronaut is not in vocab\n",
            "Converting...\n",
            "நான்\n",
            "எதிர்\n",
            "காலத்தில்\n",
            "ஒரு\n",
            "விமானியாக\n",
            "விரும்புகிறேன்\n",
            "EOS\n",
            "\n",
            "Converted sentence:-\n",
            " நான் எதிர் காலத்தில் ஒரு விமானியாக விரும்புகிறேன்\n"
          ]
        }
      ],
      "source": [
        "sentence = \"I want to become an astronaut in the future\"\n",
        "print(eng_to_tam_converter(model,clean_text(sentence)))"
      ]
    },
    {
      "cell_type": "markdown",
      "metadata": {
        "id": "qpwaM5GZEzFP"
      },
      "source": [
        "*Example 2:*"
      ]
    },
    {
      "cell_type": "code",
      "execution_count": null,
      "metadata": {
        "colab": {
          "base_uri": "https://localhost:8080/"
        },
        "id": "bmBJ-n32G4_Q",
        "outputId": "46ec773b-1829-4f72-9cbf-bd91810447b1"
      },
      "outputs": [
        {
          "output_type": "stream",
          "name": "stdout",
          "text": [
            "Converting...\n",
            "நான்\n",
            "ஒரு\n",
            "விதமான\n",
            "மகிழ்ச்சியிலிருக்கிறேன்\n",
            "EOS\n",
            "\n",
            "Converted sentence:-\n",
            " நான் ஒரு விதமான மகிழ்ச்சியிலிருக்கிறேன்\n"
          ]
        }
      ],
      "source": [
        "sentence = \"I'm kind of happy\" \n",
        "print(eng_to_tam_converter(model,clean_text(sentence)))"
      ]
    },
    {
      "cell_type": "code",
      "execution_count": null,
      "metadata": {
        "colab": {
          "base_uri": "https://localhost:8080/"
        },
        "id": "pmY_cxjcqv3c",
        "outputId": "ad60ca23-1ef1-4737-c259-f05e267b5e7d"
      },
      "outputs": [
        {
          "output_type": "stream",
          "name": "stdout",
          "text": [
            "Converting...\n",
            "அவள்\n",
            "அவனுக்கு\n",
            "ஒரு\n",
            "புத்தகத்தைக்\n",
            "கொடுத்தாள்\n",
            "EOS\n",
            "\n",
            "Converted sentence:-\n",
            " அவள் அவனுக்கு ஒரு புத்தகத்தைக் கொடுத்தாள்\n"
          ]
        }
      ],
      "source": [
        "sentence = \"She gave him a book\" \n",
        "print(eng_to_tam_converter(model,clean_text(sentence)))"
      ]
    },
    {
      "cell_type": "code",
      "execution_count": null,
      "metadata": {
        "id": "y487WriKIyfV"
      },
      "outputs": [],
      "source": []
    }
  ],
  "metadata": {
    "accelerator": "GPU",
    "colab": {
      "provenance": []
    },
    "gpuClass": "standard",
    "kernelspec": {
      "display_name": "Python 3",
      "name": "python3"
    },
    "language_info": {
      "name": "python"
    }
  },
  "nbformat": 4,
  "nbformat_minor": 0
}